{
    "cells": [
        {
            "metadata": {
                "collapsed": true
            },
            "cell_type": "code",
            "source": "",
            "execution_count": null,
            "outputs": []
        }
    ],
    "metadata": {
        "kernelspec": {
            "name": "r-3.6",
            "display_name": "R 3.6",
            "language": "R"
        },
        "language_info": {
            "name": "R",
            "codemirror_mode": "r",
            "pygments_lexer": "r",
            "mimetype": "text/x-r-source",
            "file_extension": ".r",
            "version": "3.6.1"
        }
    },
    "nbformat": 4,
    "nbformat_minor": 1
}