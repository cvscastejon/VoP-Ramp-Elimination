{
    "cells": [
        {
            "metadata": {},
            "cell_type": "code",
            "source": "install.packages(\"stringr\")",
            "execution_count": 15,
            "outputs": [
                {
                    "output_type": "stream",
                    "text": "Updating HTML index of packages in '.Library'\nMaking 'packages.html' ... done\n",
                    "name": "stderr"
                }
            ]
        },
        {
            "metadata": {},
            "cell_type": "code",
            "source": "install.packages(\"dplyr\")",
            "execution_count": 100,
            "outputs": [
                {
                    "output_type": "stream",
                    "text": "also installing the dependencies \u2018ellipsis\u2019, \u2018pillar\u2019, \u2018glue\u2019, \u2018lifecycle\u2019, \u2018rlang\u2019, \u2018tibble\u2019, \u2018tidyselect\u2019, \u2018vctrs\u2019\n\nUpdating HTML index of packages in '.Library'\nMaking 'packages.html' ... done\n",
                    "name": "stderr"
                }
            ]
        },
        {
            "metadata": {},
            "cell_type": "code",
            "source": "library(stringr)\nlibrary(dplyr)",
            "execution_count": 101,
            "outputs": [
                {
                    "output_type": "stream",
                    "text": "\nAttaching package: \u2018dplyr\u2019\n\nThe following objects are masked from \u2018package:stats\u2019:\n\n    filter, lag\n\nThe following objects are masked from \u2018package:base\u2019:\n\n    intersect, setdiff, setequal, union\n\n",
                    "name": "stderr"
                }
            ]
        },
        {
            "metadata": {},
            "cell_type": "code",
            "source": "p1 <- read.csv(\"Planilha_S\u00e9ries_Temporais_data (16).csv\")",
            "execution_count": 2,
            "outputs": [
                {
                    "output_type": "stream",
                    "text": "Warning message in file(file, \"rt\"):\n\u201ccannot open file 'Planilha_S\u00e9ries_Temporais_data (16).csv': No such file or directory\u201d",
                    "name": "stderr"
                },
                {
                    "output_type": "error",
                    "ename": "ERROR",
                    "evalue": "Error in file(file, \"rt\"): cannot open the connection\n",
                    "traceback": [
                        "Error in file(file, \"rt\"): cannot open the connection\nTraceback:\n",
                        "1. read.csv(\"Planilha_S\u00e9ries_Temporais_data (16).csv\")",
                        "2. read.table(file = file, header = header, sep = sep, quote = quote, \n .     dec = dec, fill = fill, comment.char = comment.char, ...)",
                        "3. file(file, \"rt\")"
                    ]
                }
            ]
        },
        {
            "metadata": {},
            "cell_type": "code",
            "source": "\n# @hidden_cell\n# The following code accesses a file in your IBM Cloud Object Storage. It includes your credentials.\n# You might want to remove those credentials before you share the notebook.\n\nlibrary(\"aws.s3\")\nobj <- get_object(\n    object = \"Planilha_S\u00e9ries_Temporais_data (16).csv\",\n    bucket = \"voprampeliminationsimulation-donotdelete-pr-0zwiwtgxy7dqsm\",\n    key = \"b1c2443ccfc04d278887b96652f3e13a\",\n    secret = \"4e9df613cc37174ea596c447b546a7981ef086094a75049f\",\n    check_region = FALSE,\n    base_url = \"s3-api.us-geo.objectstorage.service.networklayer.com\")\n\np1 <- read.csv(text = rawToChar(obj), sep = \";\")\nhead(p1)",
            "execution_count": 36,
            "outputs": [
                {
                    "output_type": "display_data",
                    "data": {
                        "text/html": "<table>\n<thead><tr><th scope=col>Contexto</th><th scope=col>Data.e.Hora</th><th scope=col>var_alias</th><th scope=col>VAR_VALUE</th></tr></thead>\n<tbody>\n\t<tr><td>BP-7046-FS || 49           </td><td>04/08/20 09:43:44.100      </td><td>N\u00daMERO CORRENTE DE SOLDAGEM</td><td>39701                      </td></tr>\n\t<tr><td>BP-7046-FS || 49           </td><td>04/08/20 09:43:44.300      </td><td>N\u00daMERO CORRENTE DE SOLDAGEM</td><td>39701                      </td></tr>\n\t<tr><td>BP-7046-FS || 49           </td><td>04/08/20 09:43:44.400      </td><td>N\u00daMERO CORRENTE DE SOLDAGEM</td><td>39701                      </td></tr>\n\t<tr><td>BP-7046-FS || 49           </td><td>04/08/20 09:43:44.500      </td><td>N\u00daMERO CORRENTE DE SOLDAGEM</td><td>39701                      </td></tr>\n\t<tr><td>BP-7046-FS || 49           </td><td>04/08/20 09:43:44.600      </td><td>N\u00daMERO CORRENTE DE SOLDAGEM</td><td>39701                      </td></tr>\n\t<tr><td>BP-7046-FS || 49           </td><td>04/08/20 09:43:44.700      </td><td>N\u00daMERO CORRENTE DE SOLDAGEM</td><td>39701                      </td></tr>\n</tbody>\n</table>\n",
                        "text/markdown": "\n| Contexto | Data.e.Hora | var_alias | VAR_VALUE |\n|---|---|---|---|\n| BP-7046-FS || 49            | 04/08/20 09:43:44.100       | N\u00daMERO CORRENTE DE SOLDAGEM | 39701                       |\n| BP-7046-FS || 49            | 04/08/20 09:43:44.300       | N\u00daMERO CORRENTE DE SOLDAGEM | 39701                       |\n| BP-7046-FS || 49            | 04/08/20 09:43:44.400       | N\u00daMERO CORRENTE DE SOLDAGEM | 39701                       |\n| BP-7046-FS || 49            | 04/08/20 09:43:44.500       | N\u00daMERO CORRENTE DE SOLDAGEM | 39701                       |\n| BP-7046-FS || 49            | 04/08/20 09:43:44.600       | N\u00daMERO CORRENTE DE SOLDAGEM | 39701                       |\n| BP-7046-FS || 49            | 04/08/20 09:43:44.700       | N\u00daMERO CORRENTE DE SOLDAGEM | 39701                       |\n\n",
                        "text/latex": "\\begin{tabular}{r|llll}\n Contexto & Data.e.Hora & var\\_alias & VAR\\_VALUE\\\\\n\\hline\n\t BP-7046-FS \\textbar{}\\textbar{} 49 & 04/08/20 09:43:44.100                & N\u00daMERO CORRENTE DE SOLDAGEM          & 39701                               \\\\\n\t BP-7046-FS \\textbar{}\\textbar{} 49 & 04/08/20 09:43:44.300                & N\u00daMERO CORRENTE DE SOLDAGEM          & 39701                               \\\\\n\t BP-7046-FS \\textbar{}\\textbar{} 49 & 04/08/20 09:43:44.400                & N\u00daMERO CORRENTE DE SOLDAGEM          & 39701                               \\\\\n\t BP-7046-FS \\textbar{}\\textbar{} 49 & 04/08/20 09:43:44.500                & N\u00daMERO CORRENTE DE SOLDAGEM          & 39701                               \\\\\n\t BP-7046-FS \\textbar{}\\textbar{} 49 & 04/08/20 09:43:44.600                & N\u00daMERO CORRENTE DE SOLDAGEM          & 39701                               \\\\\n\t BP-7046-FS \\textbar{}\\textbar{} 49 & 04/08/20 09:43:44.700                & N\u00daMERO CORRENTE DE SOLDAGEM          & 39701                               \\\\\n\\end{tabular}\n",
                        "text/plain": "  Contexto         Data.e.Hora           var_alias                   VAR_VALUE\n1 BP-7046-FS || 49 04/08/20 09:43:44.100 N\u00daMERO CORRENTE DE SOLDAGEM 39701    \n2 BP-7046-FS || 49 04/08/20 09:43:44.300 N\u00daMERO CORRENTE DE SOLDAGEM 39701    \n3 BP-7046-FS || 49 04/08/20 09:43:44.400 N\u00daMERO CORRENTE DE SOLDAGEM 39701    \n4 BP-7046-FS || 49 04/08/20 09:43:44.500 N\u00daMERO CORRENTE DE SOLDAGEM 39701    \n5 BP-7046-FS || 49 04/08/20 09:43:44.600 N\u00daMERO CORRENTE DE SOLDAGEM 39701    \n6 BP-7046-FS || 49 04/08/20 09:43:44.700 N\u00daMERO CORRENTE DE SOLDAGEM 39701    "
                    },
                    "metadata": {}
                }
            ]
        },
        {
            "metadata": {},
            "cell_type": "code",
            "source": "p <- p1\nattach(p)\nVAR_VALUE <- str_replace(VAR_VALUE, \",\",\".\")\nVAR_VALUE <- as.numeric(VAR_VALUE)\nData.e.Hora <- str_replace(Data.e.Hora, \"/\",\"-\")",
            "execution_count": 102,
            "outputs": []
        },
        {
            "metadata": {},
            "cell_type": "code",
            "source": "Data.e.Hora <- str_replace_all(Data.e.Hora, \"/\",\"-\")\nData.e.Hora <- as.POSIXlt(Data.e.Hora, \"%Y-%m-%d %H:%M:%OS\")\nData.e.Hora <- format(Data.e.Hora, \"%Y-%m-%d %H:%M:%OS3\")",
            "execution_count": 103,
            "outputs": []
        },
        {
            "metadata": {},
            "cell_type": "code",
            "source": "p <- arrange(p,Data.e.Hora)",
            "execution_count": 104,
            "outputs": []
        },
        {
            "metadata": {},
            "cell_type": "code",
            "source": "v <- filter(p, var_alias == \"VELOCIDADE ALIMENTA\u00c7\u00c3O FIO SOLDA\")\nn <- filter(p, var_alias == \"N\u00daMERO CORRENTE DE SOLDAGEM\")",
            "execution_count": 107,
            "outputs": []
        },
        {
            "metadata": {},
            "cell_type": "code",
            "source": "p <- inner_join(v,n,by=\"Data.e.Hora\")\np <- select(p,c(\"Contexto.x\", \"Data.e.Hora\", \"VAR_VALUE.x\", \"VAR_VALUE.y\"))",
            "execution_count": 115,
            "outputs": [
                {
                    "output_type": "display_data",
                    "data": {
                        "text/html": "<table>\n<thead><tr><th scope=col>Contexto.x</th><th scope=col>Data.e.Hora</th><th scope=col>VAR_VALUE.x</th><th scope=col>VAR_VALUE.y</th></tr></thead>\n<tbody>\n\t<tr><td>BP-7046-FS || 48     </td><td>04/08/20 09:43:39.300</td><td>4,3                  </td><td>39700                </td></tr>\n\t<tr><td>BP-7046-FS || 48     </td><td>04/08/20 09:43:39.400</td><td>7,9                  </td><td>39700                </td></tr>\n\t<tr><td>BP-7046-FS || 48     </td><td>04/08/20 09:43:39.500</td><td>11,4                 </td><td>39700                </td></tr>\n\t<tr><td>BP-7046-FS || 48     </td><td>04/08/20 09:43:39.600</td><td>12                   </td><td>39700                </td></tr>\n\t<tr><td>BP-7046-FS || 48     </td><td>04/08/20 09:43:39.700</td><td>12,3                 </td><td>39700                </td></tr>\n\t<tr><td>BP-7046-FS || 48     </td><td>04/08/20 09:43:39.800</td><td>12,4                 </td><td>39700                </td></tr>\n</tbody>\n</table>\n",
                        "text/markdown": "\n| Contexto.x | Data.e.Hora | VAR_VALUE.x | VAR_VALUE.y |\n|---|---|---|---|\n| BP-7046-FS || 48      | 04/08/20 09:43:39.300 | 4,3                   | 39700                 |\n| BP-7046-FS || 48      | 04/08/20 09:43:39.400 | 7,9                   | 39700                 |\n| BP-7046-FS || 48      | 04/08/20 09:43:39.500 | 11,4                  | 39700                 |\n| BP-7046-FS || 48      | 04/08/20 09:43:39.600 | 12                    | 39700                 |\n| BP-7046-FS || 48      | 04/08/20 09:43:39.700 | 12,3                  | 39700                 |\n| BP-7046-FS || 48      | 04/08/20 09:43:39.800 | 12,4                  | 39700                 |\n\n",
                        "text/latex": "\\begin{tabular}{r|llll}\n Contexto.x & Data.e.Hora & VAR\\_VALUE.x & VAR\\_VALUE.y\\\\\n\\hline\n\t BP-7046-FS \\textbar{}\\textbar{} 48 & 04/08/20 09:43:39.300                & 4,3                                  & 39700                               \\\\\n\t BP-7046-FS \\textbar{}\\textbar{} 48 & 04/08/20 09:43:39.400                & 7,9                                  & 39700                               \\\\\n\t BP-7046-FS \\textbar{}\\textbar{} 48 & 04/08/20 09:43:39.500                & 11,4                                 & 39700                               \\\\\n\t BP-7046-FS \\textbar{}\\textbar{} 48 & 04/08/20 09:43:39.600                & 12                                   & 39700                               \\\\\n\t BP-7046-FS \\textbar{}\\textbar{} 48 & 04/08/20 09:43:39.700                & 12,3                                 & 39700                               \\\\\n\t BP-7046-FS \\textbar{}\\textbar{} 48 & 04/08/20 09:43:39.800                & 12,4                                 & 39700                               \\\\\n\\end{tabular}\n",
                        "text/plain": "  Contexto.x       Data.e.Hora           VAR_VALUE.x VAR_VALUE.y\n1 BP-7046-FS || 48 04/08/20 09:43:39.300 4,3         39700      \n2 BP-7046-FS || 48 04/08/20 09:43:39.400 7,9         39700      \n3 BP-7046-FS || 48 04/08/20 09:43:39.500 11,4        39700      \n4 BP-7046-FS || 48 04/08/20 09:43:39.600 12          39700      \n5 BP-7046-FS || 48 04/08/20 09:43:39.700 12,3        39700      \n6 BP-7046-FS || 48 04/08/20 09:43:39.800 12,4        39700      "
                    },
                    "metadata": {}
                }
            ]
        },
        {
            "metadata": {},
            "cell_type": "code",
            "source": "inc <- numeric(nrow(p))\ninc[1] <- 1\nfor(i in 2:nrow(p)){\n    if(p[i,4] != p[i-1,4]){\n        inc[i] <- 1\n        inc[i+1] <- 2\n    } else if(inc[i] != 2){\n        inc[i] <- 0\n    }\n}\n\np <- cbind(p, inc)",
            "execution_count": 118,
            "outputs": []
        },
        {
            "metadata": {},
            "cell_type": "code",
            "source": "p2 <- filter(p,inc == 2)\nhead(p2)",
            "execution_count": 121,
            "outputs": [
                {
                    "output_type": "display_data",
                    "data": {
                        "text/html": "<table>\n<thead><tr><th scope=col>Contexto.x</th><th scope=col>Data.e.Hora</th><th scope=col>VAR_VALUE.x</th><th scope=col>VAR_VALUE.y</th><th scope=col>inc</th></tr></thead>\n<tbody>\n\t<tr><td>BP-7046-FS || 49     </td><td>04/08/20 09:43:44.300</td><td>11,9                 </td><td>39701                </td><td>2                    </td></tr>\n\t<tr><td>BP-7046-FS || 49     </td><td>04/08/20 09:43:51.100</td><td>3,5                  </td><td>39702                </td><td>2                    </td></tr>\n\t<tr><td>BP-7046-FS || 49     </td><td>04/08/20 09:43:53.700</td><td>3,6                  </td><td>39703                </td><td>2                    </td></tr>\n\t<tr><td>BP-7046-FS || 49     </td><td>04/08/20 09:43:56.600</td><td>7,1                  </td><td>39704                </td><td>2                    </td></tr>\n\t<tr><td>BP-7046-FS || 45     </td><td>04/08/20 09:44:17.400</td><td>11,2                 </td><td>39705                </td><td>2                    </td></tr>\n\t<tr><td>BP-7046-FS || 45     </td><td>04/08/20 09:44:24.900</td><td>4,4                  </td><td>39706                </td><td>2                    </td></tr>\n</tbody>\n</table>\n",
                        "text/markdown": "\n| Contexto.x | Data.e.Hora | VAR_VALUE.x | VAR_VALUE.y | inc |\n|---|---|---|---|---|\n| BP-7046-FS || 49      | 04/08/20 09:43:44.300 | 11,9                  | 39701                 | 2                     |\n| BP-7046-FS || 49      | 04/08/20 09:43:51.100 | 3,5                   | 39702                 | 2                     |\n| BP-7046-FS || 49      | 04/08/20 09:43:53.700 | 3,6                   | 39703                 | 2                     |\n| BP-7046-FS || 49      | 04/08/20 09:43:56.600 | 7,1                   | 39704                 | 2                     |\n| BP-7046-FS || 45      | 04/08/20 09:44:17.400 | 11,2                  | 39705                 | 2                     |\n| BP-7046-FS || 45      | 04/08/20 09:44:24.900 | 4,4                   | 39706                 | 2                     |\n\n",
                        "text/latex": "\\begin{tabular}{r|lllll}\n Contexto.x & Data.e.Hora & VAR\\_VALUE.x & VAR\\_VALUE.y & inc\\\\\n\\hline\n\t BP-7046-FS \\textbar{}\\textbar{} 49 & 04/08/20 09:43:44.300                & 11,9                                 & 39701                                & 2                                   \\\\\n\t BP-7046-FS \\textbar{}\\textbar{} 49 & 04/08/20 09:43:51.100                & 3,5                                  & 39702                                & 2                                   \\\\\n\t BP-7046-FS \\textbar{}\\textbar{} 49 & 04/08/20 09:43:53.700                & 3,6                                  & 39703                                & 2                                   \\\\\n\t BP-7046-FS \\textbar{}\\textbar{} 49 & 04/08/20 09:43:56.600                & 7,1                                  & 39704                                & 2                                   \\\\\n\t BP-7046-FS \\textbar{}\\textbar{} 45 & 04/08/20 09:44:17.400                & 11,2                                 & 39705                                & 2                                   \\\\\n\t BP-7046-FS \\textbar{}\\textbar{} 45 & 04/08/20 09:44:24.900                & 4,4                                  & 39706                                & 2                                   \\\\\n\\end{tabular}\n",
                        "text/plain": "  Contexto.x       Data.e.Hora           VAR_VALUE.x VAR_VALUE.y inc\n1 BP-7046-FS || 49 04/08/20 09:43:44.300 11,9        39701       2  \n2 BP-7046-FS || 49 04/08/20 09:43:51.100 3,5         39702       2  \n3 BP-7046-FS || 49 04/08/20 09:43:53.700 3,6         39703       2  \n4 BP-7046-FS || 49 04/08/20 09:43:56.600 7,1         39704       2  \n5 BP-7046-FS || 45 04/08/20 09:44:17.400 11,2        39705       2  \n6 BP-7046-FS || 45 04/08/20 09:44:24.900 4,4         39706       2  "
                    },
                    "metadata": {}
                }
            ]
        },
        {
            "metadata": {},
            "cell_type": "code",
            "source": "",
            "execution_count": null,
            "outputs": []
        }
    ],
    "metadata": {
        "kernelspec": {
            "name": "r-3.6",
            "display_name": "R 3.6",
            "language": "R"
        },
        "language_info": {
            "name": "R",
            "codemirror_mode": "r",
            "pygments_lexer": "r",
            "mimetype": "text/x-r-source",
            "file_extension": ".r",
            "version": "3.6.1"
        }
    },
    "nbformat": 4,
    "nbformat_minor": 1
}