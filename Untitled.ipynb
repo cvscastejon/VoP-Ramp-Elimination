{
 "cells": [
  {
   "cell_type": "code",
   "execution_count": 1,
   "metadata": {},
   "outputs": [],
   "source": [
    "import pandas as pd"
   ]
  },
  {
   "cell_type": "code",
   "execution_count": 11,
   "metadata": {},
   "outputs": [],
   "source": [
    "df = pd.read_csv(\"Planilha_Séries_Temporais_data.csv\", delimiter = \";\", low_memory = False)"
   ]
  },
  {
   "cell_type": "code",
   "execution_count": 14,
   "metadata": {},
   "outputs": [
    {
     "data": {
      "text/html": [
       "<div>\n",
       "<style scoped>\n",
       "    .dataframe tbody tr th:only-of-type {\n",
       "        vertical-align: middle;\n",
       "    }\n",
       "\n",
       "    .dataframe tbody tr th {\n",
       "        vertical-align: top;\n",
       "    }\n",
       "\n",
       "    .dataframe thead th {\n",
       "        text-align: right;\n",
       "    }\n",
       "</style>\n",
       "<table border=\"1\" class=\"dataframe\">\n",
       "  <thead>\n",
       "    <tr style=\"text-align: right;\">\n",
       "      <th></th>\n",
       "      <th>Contexto</th>\n",
       "      <th>Data e Hora</th>\n",
       "      <th>var_alias</th>\n",
       "      <th>VAR_VALUE</th>\n",
       "    </tr>\n",
       "  </thead>\n",
       "  <tbody>\n",
       "    <tr>\n",
       "      <th>550232</th>\n",
       "      <td>BP-7045-FS || 33</td>\n",
       "      <td>04/09/20 18:29:04.300</td>\n",
       "      <td>VELOCIDADE ALIMENTAÇÃO FIO SOLDA</td>\n",
       "      <td>11.6</td>\n",
       "    </tr>\n",
       "    <tr>\n",
       "      <th>550233</th>\n",
       "      <td>BP-7045-FS || 33</td>\n",
       "      <td>04/09/20 18:29:04.400</td>\n",
       "      <td>VELOCIDADE ALIMENTAÇÃO FIO SOLDA</td>\n",
       "      <td>11.6</td>\n",
       "    </tr>\n",
       "    <tr>\n",
       "      <th>550234</th>\n",
       "      <td>BP-7045-FS || 33</td>\n",
       "      <td>04/09/20 18:29:04.500</td>\n",
       "      <td>VELOCIDADE ALIMENTAÇÃO FIO SOLDA</td>\n",
       "      <td>11.6</td>\n",
       "    </tr>\n",
       "    <tr>\n",
       "      <th>550235</th>\n",
       "      <td>BP-7045-FS || 33</td>\n",
       "      <td>04/09/20 18:29:04.700</td>\n",
       "      <td>VELOCIDADE ALIMENTAÇÃO FIO SOLDA</td>\n",
       "      <td>11.6</td>\n",
       "    </tr>\n",
       "    <tr>\n",
       "      <th>550236</th>\n",
       "      <td>BP-7045-FS || 33</td>\n",
       "      <td>04/09/20 18:29:04.800</td>\n",
       "      <td>VELOCIDADE ALIMENTAÇÃO FIO SOLDA</td>\n",
       "      <td>11.6</td>\n",
       "    </tr>\n",
       "  </tbody>\n",
       "</table>\n",
       "</div>"
      ],
      "text/plain": [
       "                Contexto            Data e Hora  \\\n",
       "550232  BP-7045-FS || 33  04/09/20 18:29:04.300   \n",
       "550233  BP-7045-FS || 33  04/09/20 18:29:04.400   \n",
       "550234  BP-7045-FS || 33  04/09/20 18:29:04.500   \n",
       "550235  BP-7045-FS || 33  04/09/20 18:29:04.700   \n",
       "550236  BP-7045-FS || 33  04/09/20 18:29:04.800   \n",
       "\n",
       "                               var_alias VAR_VALUE  \n",
       "550232  VELOCIDADE ALIMENTAÇÃO FIO SOLDA      11.6  \n",
       "550233  VELOCIDADE ALIMENTAÇÃO FIO SOLDA      11.6  \n",
       "550234  VELOCIDADE ALIMENTAÇÃO FIO SOLDA      11.6  \n",
       "550235  VELOCIDADE ALIMENTAÇÃO FIO SOLDA      11.6  \n",
       "550236  VELOCIDADE ALIMENTAÇÃO FIO SOLDA      11.6  "
      ]
     },
     "execution_count": 14,
     "metadata": {},
     "output_type": "execute_result"
    }
   ],
   "source": [
    "df.tail()"
   ]
  },
  {
   "cell_type": "code",
   "execution_count": 13,
   "metadata": {},
   "outputs": [],
   "source": [
    "df['VAR_VALUE'] = df['VAR_VALUE'].str.replace(',', '.')"
   ]
  },
  {
   "cell_type": "code",
   "execution_count": 15,
   "metadata": {},
   "outputs": [],
   "source": [
    "df['VAR_VALUE'] = df['VAR_VALUE'].astype(float)"
   ]
  },
  {
   "cell_type": "code",
   "execution_count": 16,
   "metadata": {},
   "outputs": [],
   "source": [
    "df['Data e Hora'] = pd.to_datetime(df['Data e Hora'])"
   ]
  },
  {
   "cell_type": "code",
   "execution_count": 19,
   "metadata": {},
   "outputs": [],
   "source": [
    "df['Contexto'] = df['Contexto'].str[-2:]"
   ]
  },
  {
   "cell_type": "code",
   "execution_count": 20,
   "metadata": {},
   "outputs": [
    {
     "data": {
      "text/html": [
       "<div>\n",
       "<style scoped>\n",
       "    .dataframe tbody tr th:only-of-type {\n",
       "        vertical-align: middle;\n",
       "    }\n",
       "\n",
       "    .dataframe tbody tr th {\n",
       "        vertical-align: top;\n",
       "    }\n",
       "\n",
       "    .dataframe thead th {\n",
       "        text-align: right;\n",
       "    }\n",
       "</style>\n",
       "<table border=\"1\" class=\"dataframe\">\n",
       "  <thead>\n",
       "    <tr style=\"text-align: right;\">\n",
       "      <th></th>\n",
       "      <th>Contexto</th>\n",
       "      <th>Data e Hora</th>\n",
       "      <th>var_alias</th>\n",
       "      <th>VAR_VALUE</th>\n",
       "    </tr>\n",
       "  </thead>\n",
       "  <tbody>\n",
       "    <tr>\n",
       "      <th>0</th>\n",
       "      <td>43</td>\n",
       "      <td>2020-03-09 11:01:02.500</td>\n",
       "      <td>NÚMERO CORRENTE DE SOLDAGEM</td>\n",
       "      <td>18588.0</td>\n",
       "    </tr>\n",
       "    <tr>\n",
       "      <th>1</th>\n",
       "      <td>43</td>\n",
       "      <td>2020-03-09 11:01:02.600</td>\n",
       "      <td>NÚMERO CORRENTE DE SOLDAGEM</td>\n",
       "      <td>18588.0</td>\n",
       "    </tr>\n",
       "    <tr>\n",
       "      <th>2</th>\n",
       "      <td>43</td>\n",
       "      <td>2020-03-09 11:01:02.700</td>\n",
       "      <td>NÚMERO CORRENTE DE SOLDAGEM</td>\n",
       "      <td>18588.0</td>\n",
       "    </tr>\n",
       "    <tr>\n",
       "      <th>3</th>\n",
       "      <td>43</td>\n",
       "      <td>2020-03-09 11:01:02.800</td>\n",
       "      <td>NÚMERO CORRENTE DE SOLDAGEM</td>\n",
       "      <td>18588.0</td>\n",
       "    </tr>\n",
       "    <tr>\n",
       "      <th>4</th>\n",
       "      <td>43</td>\n",
       "      <td>2020-03-09 11:01:02.900</td>\n",
       "      <td>NÚMERO CORRENTE DE SOLDAGEM</td>\n",
       "      <td>18588.0</td>\n",
       "    </tr>\n",
       "  </tbody>\n",
       "</table>\n",
       "</div>"
      ],
      "text/plain": [
       "  Contexto             Data e Hora                    var_alias  VAR_VALUE\n",
       "0       43 2020-03-09 11:01:02.500  NÚMERO CORRENTE DE SOLDAGEM    18588.0\n",
       "1       43 2020-03-09 11:01:02.600  NÚMERO CORRENTE DE SOLDAGEM    18588.0\n",
       "2       43 2020-03-09 11:01:02.700  NÚMERO CORRENTE DE SOLDAGEM    18588.0\n",
       "3       43 2020-03-09 11:01:02.800  NÚMERO CORRENTE DE SOLDAGEM    18588.0\n",
       "4       43 2020-03-09 11:01:02.900  NÚMERO CORRENTE DE SOLDAGEM    18588.0"
      ]
     },
     "execution_count": 20,
     "metadata": {},
     "output_type": "execute_result"
    }
   ],
   "source": [
    "df.head()"
   ]
  },
  {
   "cell_type": "code",
   "execution_count": null,
   "metadata": {},
   "outputs": [],
   "source": []
  }
 ],
 "metadata": {
  "kernelspec": {
   "display_name": "Python 3",
   "language": "python",
   "name": "python3"
  },
  "language_info": {
   "codemirror_mode": {
    "name": "ipython",
    "version": 3
   },
   "file_extension": ".py",
   "mimetype": "text/x-python",
   "name": "python",
   "nbconvert_exporter": "python",
   "pygments_lexer": "ipython3",
   "version": "3.8.3"
  }
 },
 "nbformat": 4,
 "nbformat_minor": 4
}
